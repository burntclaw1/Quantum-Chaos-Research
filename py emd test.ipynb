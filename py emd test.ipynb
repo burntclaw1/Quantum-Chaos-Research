{
 "cells": [
  {
   "cell_type": "code",
   "execution_count": 8,
   "id": "21f4cf9d",
   "metadata": {},
   "outputs": [],
   "source": [
    "from pyemd import emd\n",
    "import numpy as np\n",
    "import pandas as pd\n",
    "import time"
   ]
  },
  {
   "cell_type": "code",
   "execution_count": 9,
   "id": "17d98462",
   "metadata": {},
   "outputs": [],
   "source": [
    "mat0=np.genfromtxt(\"mat0.csv\", delimiter=',')\n",
    "supply=np.abs(np.genfromtxt(\"supplyamount.csv\", delimiter=','))\n",
    "demand=np.abs(np.genfromtxt(\"demandamount.csv\", delimiter=','))"
   ]
  },
  {
   "cell_type": "code",
   "execution_count": 10,
   "id": "1f07e00e",
   "metadata": {},
   "outputs": [
    {
     "data": {
      "text/plain": [
       "(596, 596)"
      ]
     },
     "execution_count": 10,
     "metadata": {},
     "output_type": "execute_result"
    }
   ],
   "source": [
    "np.shape(mat0)"
   ]
  },
  {
   "cell_type": "code",
   "execution_count": 11,
   "id": "fe08f735",
   "metadata": {},
   "outputs": [],
   "source": [
    "demandzeros=np.zeros(np.shape(demand));\n",
    "supplyzeros=np.zeros(np.shape(supply));\n",
    "thesupply=np.append(supply,demandzeros)\n",
    "thedemand=np.append(supplyzeros,demand)"
   ]
  },
  {
   "cell_type": "code",
   "execution_count": 12,
   "id": "e6c3ebcd",
   "metadata": {},
   "outputs": [
    {
     "data": {
      "text/plain": [
       "(596,)"
      ]
     },
     "execution_count": 12,
     "metadata": {},
     "output_type": "execute_result"
    }
   ],
   "source": [
    "np.shape(thesupply)"
   ]
  },
  {
   "cell_type": "code",
   "execution_count": 13,
   "id": "b2b5c9f1",
   "metadata": {},
   "outputs": [
    {
     "data": {
      "text/plain": [
       "(596,)"
      ]
     },
     "execution_count": 13,
     "metadata": {},
     "output_type": "execute_result"
    }
   ],
   "source": [
    "np.shape(thedemand)"
   ]
  },
  {
   "cell_type": "code",
   "execution_count": 14,
   "id": "80c6a77b",
   "metadata": {},
   "outputs": [
    {
     "name": "stdout",
     "output_type": "stream",
     "text": [
      "7.617124080657959\n",
      "0.7484654236954699\n"
     ]
    }
   ],
   "source": [
    "first_histogram = thesupply.copy(order='C')\n",
    "second_histogram = thedemand.copy(order='C')\n",
    "distance_matrix = mat0.copy(order='C')\n",
    "start = time.time()\n",
    "themed=emd(first_histogram, second_histogram, distance_matrix)\n",
    "end =time.time()\n",
    "print(end-start)\n",
    "print(themed)"
   ]
  },
  {
   "cell_type": "code",
   "execution_count": null,
   "id": "38fab0f2",
   "metadata": {},
   "outputs": [],
   "source": []
  },
  {
   "cell_type": "code",
   "execution_count": 8,
   "id": "936fb597",
   "metadata": {},
   "outputs": [
    {
     "data": {
      "text/plain": [
       "(1196, 1196)"
      ]
     },
     "execution_count": 8,
     "metadata": {},
     "output_type": "execute_result"
    }
   ],
   "source": [
    "np.shape(distance_matrix)"
   ]
  },
  {
   "cell_type": "code",
   "execution_count": 9,
   "id": "8b473453",
   "metadata": {},
   "outputs": [
    {
     "data": {
      "text/plain": [
       "(546,)"
      ]
     },
     "execution_count": 9,
     "metadata": {},
     "output_type": "execute_result"
    }
   ],
   "source": [
    "supply.shape"
   ]
  },
  {
   "cell_type": "code",
   "execution_count": 55,
   "id": "6782a704",
   "metadata": {},
   "outputs": [
    {
     "data": {
      "text/plain": [
       "array([[0.        , 0.        , 0.        , ..., 6.74462749, 6.80073525,\n",
       "        6.86221539],\n",
       "       [0.        , 0.        , 0.        , ..., 6.69402719, 6.74462749,\n",
       "        6.80073525],\n",
       "       [0.        , 0.        , 0.        , ..., 6.64906008, 6.69402719,\n",
       "        6.74462749],\n",
       "       ...,\n",
       "       [0.        , 0.        , 0.        , ..., 0.        , 0.2       ,\n",
       "        0.4       ],\n",
       "       [0.        , 0.        , 0.        , ..., 0.        , 0.        ,\n",
       "        0.2       ],\n",
       "       [0.        , 0.        , 0.        , ..., 0.        , 0.        ,\n",
       "        0.        ]])"
      ]
     },
     "execution_count": 55,
     "metadata": {},
     "output_type": "execute_result"
    }
   ],
   "source": [
    "mat0"
   ]
  },
  {
   "cell_type": "code",
   "execution_count": null,
   "id": "372bd9bd",
   "metadata": {},
   "outputs": [],
   "source": []
  }
 ],
 "metadata": {
  "kernelspec": {
   "display_name": "Python 3 (ipykernel)",
   "language": "python",
   "name": "python3"
  },
  "language_info": {
   "codemirror_mode": {
    "name": "ipython",
    "version": 3
   },
   "file_extension": ".py",
   "mimetype": "text/x-python",
   "name": "python",
   "nbconvert_exporter": "python",
   "pygments_lexer": "ipython3",
   "version": "3.9.12"
  }
 },
 "nbformat": 4,
 "nbformat_minor": 5
}
